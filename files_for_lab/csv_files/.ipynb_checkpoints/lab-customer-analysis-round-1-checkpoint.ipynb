{
 "cells": [
  {
   "cell_type": "code",
   "execution_count": null,
   "metadata": {},
   "outputs": [],
   "source": [
    "import pandas as pd"
   ]
  },
  {
   "cell_type": "code",
   "execution_count": null,
   "metadata": {},
   "outputs": [],
   "source": [
    "file1 = pd.read_csv('file1.csv')\n",
    "file1"
   ]
  },
  {
   "cell_type": "code",
   "execution_count": null,
   "metadata": {},
   "outputs": [],
   "source": [
    "file2 = pd.read_csv('file2.csv')\n",
    "file2\n"
   ]
  },
  {
   "cell_type": "code",
   "execution_count": null,
   "metadata": {},
   "outputs": [],
   "source": [
    "file3 = pd.read_csv('file3.csv')\n",
    "file3"
   ]
  },
  {
   "cell_type": "code",
   "execution_count": null,
   "metadata": {},
   "outputs": [],
   "source": [
    "file1.shape"
   ]
  },
  {
   "cell_type": "code",
   "execution_count": null,
   "metadata": {},
   "outputs": [],
   "source": [
    "file2.shape"
   ]
  },
  {
   "cell_type": "code",
   "execution_count": null,
   "metadata": {},
   "outputs": [],
   "source": [
    "file3.shape"
   ]
  },
  {
   "cell_type": "code",
   "execution_count": null,
   "metadata": {},
   "outputs": [],
   "source": [
    "file1_clean = file1\n",
    "file1_clean = file1.rename(columns ={'ST':'State', 'GENDER':'Gender'})\n",
    "file1_clean"
   ]
  },
  {
   "cell_type": "code",
   "execution_count": null,
   "metadata": {},
   "outputs": [],
   "source": [
    "file1_clean.columns"
   ]
  },
  {
   "cell_type": "code",
   "execution_count": null,
   "metadata": {},
   "outputs": [],
   "source": [
    "file2_clean = file2\n",
    "file2_clean = file2.rename(columns ={'ST':'State', 'GENDER':'Gender'})\n",
    "file2_clean"
   ]
  },
  {
   "cell_type": "code",
   "execution_count": null,
   "metadata": {},
   "outputs": [],
   "source": [
    "file2_clean.columns"
   ]
  },
  {
   "cell_type": "code",
   "execution_count": null,
   "metadata": {},
   "outputs": [],
   "source": [
    "file2_ordered = file2_clean[['Customer', 'State', 'Gender', 'Education', 'Customer Lifetime Value',\n",
    "       'Income', 'Monthly Premium Auto', 'Number of Open Complaints',\n",
    "       'Policy Type', 'Vehicle Class', 'Total Claim Amount']]"
   ]
  },
  {
   "cell_type": "code",
   "execution_count": null,
   "metadata": {},
   "outputs": [],
   "source": [
    "file2_ordered.columns"
   ]
  },
  {
   "cell_type": "code",
   "execution_count": null,
   "metadata": {},
   "outputs": [],
   "source": [
    "file1_clean.columns"
   ]
  },
  {
   "cell_type": "code",
   "execution_count": null,
   "metadata": {},
   "outputs": [],
   "source": [
    "file3_ordered = file3\n",
    "file3_ordered = file3[['Customer', 'State', 'Gender', 'Education', 'Customer Lifetime Value',\n",
    "       'Income', 'Monthly Premium Auto', 'Number of Open Complaints',\n",
    "       'Policy Type', 'Vehicle Class', 'Total Claim Amount']]"
   ]
  },
  {
   "cell_type": "code",
   "execution_count": null,
   "metadata": {},
   "outputs": [],
   "source": [
    "file3_ordered.columns"
   ]
  },
  {
   "cell_type": "code",
   "execution_count": null,
   "metadata": {},
   "outputs": [],
   "source": [
    "#Concatenate\n",
    "concat_table = pd.concat([file1_clean, file2_ordered, file3_ordered])\n",
    "concat_table"
   ]
  },
  {
   "cell_type": "code",
   "execution_count": null,
   "metadata": {},
   "outputs": [],
   "source": [
    "concat_table.reset_index(drop=True)"
   ]
  },
  {
   "cell_type": "code",
   "execution_count": null,
   "metadata": {},
   "outputs": [],
   "source": [
    "concat_table.dtypes\n",
    "\n",
    "#Categorical Columns: Customer, State, Gender, Education, CLV, Income, NOC, Policty Type, Vehicle Class\n",
    "#Numerical Columns:Income, Monthly Premium Auto, Total Claim Amount "
   ]
  },
  {
   "cell_type": "code",
   "execution_count": null,
   "metadata": {
    "scrolled": true
   },
   "outputs": [],
   "source": [
    "concat_table.isnull().sum()\n"
   ]
  },
  {
   "cell_type": "code",
   "execution_count": null,
   "metadata": {
    "scrolled": false
   },
   "outputs": [],
   "source": [
    "concat_table['Income'].fillna(value=concat_table['Income'].mean(), inplace = True)\n",
    "concat_table['Monthly Premium Auto'].fillna(concat_table['Monthly Premium Auto'].mean(), inplace = True)\n",
    "concat_table['Total Claim Amount'].fillna(value=concat_table['Total Claim Amount'].mean(), inplace = True)\n",
    "concat_table = concat_table.round(1)\n",
    "concat_table.isnull().sum()\n"
   ]
  },
  {
   "cell_type": "code",
   "execution_count": null,
   "metadata": {},
   "outputs": [],
   "source": [
    "concat_table.dtypes"
   ]
  },
  {
   "cell_type": "code",
   "execution_count": null,
   "metadata": {},
   "outputs": [],
   "source": [
    "concat_table['Vehicle Class'] = concat_table['Vehicle Class'].fillna('Unknown')\n",
    "\n",
    "concat_table['Vehicle Class'].value_counts(dropna=False)"
   ]
  },
  {
   "cell_type": "code",
   "execution_count": null,
   "metadata": {},
   "outputs": [],
   "source": [
    "concat_table['Policy Type'] = concat_table['Policy Type'].fillna('Unknown')\n",
    "concat_table['Policy Type'].value_counts(dropna=False)"
   ]
  },
  {
   "cell_type": "code",
   "execution_count": null,
   "metadata": {},
   "outputs": [],
   "source": [
    "concat_table['State'] = concat_table['State'].fillna('Unknown')\n",
    "concat_table['State'].value_counts(dropna=False)"
   ]
  },
  {
   "cell_type": "code",
   "execution_count": null,
   "metadata": {},
   "outputs": [],
   "source": [
    "concat_table['Customer'] = concat_table['Customer'].fillna('Unknown')\n",
    "concat_table['Customer'].value_counts(dropna=False)"
   ]
  },
  {
   "cell_type": "code",
   "execution_count": null,
   "metadata": {},
   "outputs": [],
   "source": [
    "concat_table['Gender'] = concat_table['Gender'].fillna('F')\n",
    "concat_table['Gender'].value_counts(dropna=False)"
   ]
  },
  {
   "cell_type": "code",
   "execution_count": null,
   "metadata": {
    "scrolled": true
   },
   "outputs": [],
   "source": [
    "table_delete = concat_table\n",
    "table_deleted = table_delete.drop(columns=['Education','Number of Open Complaints'])\n",
    "table_deleted.isnull().sum()\n",
    "                 "
   ]
  },
  {
   "cell_type": "code",
   "execution_count": null,
   "metadata": {},
   "outputs": [],
   "source": [
    "table_customer = table_deleted\n",
    "table_customer['Customer Lifetime Value'] = table_customer['Customer Lifetime Value'].to_string()\n",
    "table_customer['Customer Lifetime Value'] = table_customer['Customer Lifetime Value'].str.replace('%','')\n",
    "#table_customer['Customer Lifetime Value'] = pd.to_numeric(table_customer['Customer Lifetime Value'])\n",
    "#table_customer['Customer Lifetime Value'].fillna(value=table_customer['Customer Lifetime Value'].mean(), inplace = True)\n",
    "\n",
    "#table_customer.isna().sum()\n",
    "\n",
    "#table_customer['Customer Lifetime Value'].fillna(value=table_customer['Customer Lifetime Value'].mean(), inplace = True)\n",
    "#table_customer.dtypes\n",
    "table_customer['Customer Lifetime Value']"
   ]
  },
  {
   "cell_type": "code",
   "execution_count": 620,
   "metadata": {},
   "outputs": [
    {
     "data": {
      "text/plain": [
       "0       7.799463e+07\n",
       "1       6.979536e+07\n",
       "2       1.288743e+08\n",
       "3       7.645862e+07\n",
       "4       5.363076e+07\n",
       "            ...     \n",
       "7065    7.799463e+07\n",
       "7066    7.799463e+07\n",
       "7067    7.799463e+07\n",
       "7068    7.799463e+07\n",
       "7069    7.799463e+07\n",
       "Name: Customer Lifetime Value, Length: 12074, dtype: float64"
      ]
     },
     "execution_count": 620,
     "metadata": {},
     "output_type": "execute_result"
    }
   ],
   "source": [
    "table_multiplied = table_deleted\n",
    "table_multiplied['Customer Lifetime Value'] = table_customer['Customer Lifetime Value'] * 100\n",
    "table_multiplied['Customer Lifetime Value']\n"
   ]
  },
  {
   "cell_type": "code",
   "execution_count": 631,
   "metadata": {},
   "outputs": [
    {
     "data": {
      "text/plain": [
       "False    9131\n",
       "True     2943\n",
       "dtype: int64"
      ]
     },
     "execution_count": 631,
     "metadata": {},
     "output_type": "execute_result"
    }
   ],
   "source": [
    "table_duplicates = table_multiplied\n",
    "table_duplicates.duplicated(keep=False).value_counts()\n"
   ]
  },
  {
   "cell_type": "code",
   "execution_count": 630,
   "metadata": {},
   "outputs": [
    {
     "data": {
      "text/plain": [
       "False    9131\n",
       "dtype: int64"
      ]
     },
     "execution_count": 630,
     "metadata": {},
     "output_type": "execute_result"
    }
   ],
   "source": [
    "table_duplicates = table_duplicates.drop_duplicates()\n",
    "table_duplicates.duplicated(keep=False).value_counts()\n"
   ]
  },
  {
   "cell_type": "code",
   "execution_count": 635,
   "metadata": {},
   "outputs": [
    {
     "data": {
      "text/html": [
       "<div>\n",
       "<style scoped>\n",
       "    .dataframe tbody tr th:only-of-type {\n",
       "        vertical-align: middle;\n",
       "    }\n",
       "\n",
       "    .dataframe tbody tr th {\n",
       "        vertical-align: top;\n",
       "    }\n",
       "\n",
       "    .dataframe thead th {\n",
       "        text-align: right;\n",
       "    }\n",
       "</style>\n",
       "<table border=\"1\" class=\"dataframe\">\n",
       "  <thead>\n",
       "    <tr style=\"text-align: right;\">\n",
       "      <th></th>\n",
       "      <th>Customer</th>\n",
       "      <th>State</th>\n",
       "      <th>Gender</th>\n",
       "      <th>Customer Lifetime Value</th>\n",
       "      <th>Income</th>\n",
       "      <th>Monthly Premium Auto</th>\n",
       "      <th>Policy Type</th>\n",
       "      <th>Vehicle Class</th>\n",
       "      <th>Total Claim Amount</th>\n",
       "    </tr>\n",
       "  </thead>\n",
       "  <tbody>\n",
       "    <tr>\n",
       "      <th>0</th>\n",
       "      <td>RB50392</td>\n",
       "      <td>Washington</td>\n",
       "      <td>F</td>\n",
       "      <td>7.799463e+07</td>\n",
       "      <td>0.0</td>\n",
       "      <td>1000.0</td>\n",
       "      <td>Personal Auto</td>\n",
       "      <td>Four-Door Car</td>\n",
       "      <td>2.7</td>\n",
       "    </tr>\n",
       "    <tr>\n",
       "      <th>1</th>\n",
       "      <td>QZ44356</td>\n",
       "      <td>Arizona</td>\n",
       "      <td>F</td>\n",
       "      <td>6.979536e+07</td>\n",
       "      <td>0.0</td>\n",
       "      <td>94.0</td>\n",
       "      <td>Personal Auto</td>\n",
       "      <td>Four-Door Car</td>\n",
       "      <td>1131.5</td>\n",
       "    </tr>\n",
       "    <tr>\n",
       "      <th>3</th>\n",
       "      <td>WW63253</td>\n",
       "      <td>California</td>\n",
       "      <td>M</td>\n",
       "      <td>7.645862e+07</td>\n",
       "      <td>0.0</td>\n",
       "      <td>106.0</td>\n",
       "      <td>Corporate Auto</td>\n",
       "      <td>SUV</td>\n",
       "      <td>529.9</td>\n",
       "    </tr>\n",
       "    <tr>\n",
       "      <th>7</th>\n",
       "      <td>CF85061</td>\n",
       "      <td>Arizona</td>\n",
       "      <td>M</td>\n",
       "      <td>7.216100e+07</td>\n",
       "      <td>0.0</td>\n",
       "      <td>101.0</td>\n",
       "      <td>Corporate Auto</td>\n",
       "      <td>Four-Door Car</td>\n",
       "      <td>363.0</td>\n",
       "    </tr>\n",
       "    <tr>\n",
       "      <th>10</th>\n",
       "      <td>SX51350</td>\n",
       "      <td>California</td>\n",
       "      <td>M</td>\n",
       "      <td>4.738992e+07</td>\n",
       "      <td>0.0</td>\n",
       "      <td>67.0</td>\n",
       "      <td>Personal Auto</td>\n",
       "      <td>Four-Door Car</td>\n",
       "      <td>482.4</td>\n",
       "    </tr>\n",
       "    <tr>\n",
       "      <th>...</th>\n",
       "      <td>...</td>\n",
       "      <td>...</td>\n",
       "      <td>...</td>\n",
       "      <td>...</td>\n",
       "      <td>...</td>\n",
       "      <td>...</td>\n",
       "      <td>...</td>\n",
       "      <td>...</td>\n",
       "      <td>...</td>\n",
       "    </tr>\n",
       "    <tr>\n",
       "      <th>7059</th>\n",
       "      <td>WZ45103</td>\n",
       "      <td>California</td>\n",
       "      <td>F</td>\n",
       "      <td>7.799463e+07</td>\n",
       "      <td>0.0</td>\n",
       "      <td>76.0</td>\n",
       "      <td>Personal Auto</td>\n",
       "      <td>Four-Door Car</td>\n",
       "      <td>364.8</td>\n",
       "    </tr>\n",
       "    <tr>\n",
       "      <th>7061</th>\n",
       "      <td>RX91025</td>\n",
       "      <td>California</td>\n",
       "      <td>M</td>\n",
       "      <td>7.799463e+07</td>\n",
       "      <td>0.0</td>\n",
       "      <td>185.0</td>\n",
       "      <td>Personal Auto</td>\n",
       "      <td>SUV</td>\n",
       "      <td>1950.7</td>\n",
       "    </tr>\n",
       "    <tr>\n",
       "      <th>7062</th>\n",
       "      <td>AC13887</td>\n",
       "      <td>California</td>\n",
       "      <td>M</td>\n",
       "      <td>7.799463e+07</td>\n",
       "      <td>0.0</td>\n",
       "      <td>67.0</td>\n",
       "      <td>Corporate Auto</td>\n",
       "      <td>Two-Door Car</td>\n",
       "      <td>482.4</td>\n",
       "    </tr>\n",
       "    <tr>\n",
       "      <th>7067</th>\n",
       "      <td>TD14365</td>\n",
       "      <td>California</td>\n",
       "      <td>M</td>\n",
       "      <td>7.799463e+07</td>\n",
       "      <td>0.0</td>\n",
       "      <td>85.0</td>\n",
       "      <td>Corporate Auto</td>\n",
       "      <td>Four-Door Car</td>\n",
       "      <td>790.8</td>\n",
       "    </tr>\n",
       "    <tr>\n",
       "      <th>7069</th>\n",
       "      <td>Y167826</td>\n",
       "      <td>California</td>\n",
       "      <td>M</td>\n",
       "      <td>7.799463e+07</td>\n",
       "      <td>0.0</td>\n",
       "      <td>77.0</td>\n",
       "      <td>Corporate Auto</td>\n",
       "      <td>Two-Door Car</td>\n",
       "      <td>369.6</td>\n",
       "    </tr>\n",
       "  </tbody>\n",
       "</table>\n",
       "<p>2294 rows × 9 columns</p>\n",
       "</div>"
      ],
      "text/plain": [
       "     Customer       State Gender  Customer Lifetime Value  Income  \\\n",
       "0     RB50392  Washington      F             7.799463e+07     0.0   \n",
       "1     QZ44356     Arizona      F             6.979536e+07     0.0   \n",
       "3     WW63253  California      M             7.645862e+07     0.0   \n",
       "7     CF85061     Arizona      M             7.216100e+07     0.0   \n",
       "10    SX51350  California      M             4.738992e+07     0.0   \n",
       "...       ...         ...    ...                      ...     ...   \n",
       "7059  WZ45103  California      F             7.799463e+07     0.0   \n",
       "7061  RX91025  California      M             7.799463e+07     0.0   \n",
       "7062  AC13887  California      M             7.799463e+07     0.0   \n",
       "7067  TD14365  California      M             7.799463e+07     0.0   \n",
       "7069  Y167826  California      M             7.799463e+07     0.0   \n",
       "\n",
       "      Monthly Premium Auto     Policy Type  Vehicle Class  Total Claim Amount  \n",
       "0                   1000.0   Personal Auto  Four-Door Car                 2.7  \n",
       "1                     94.0   Personal Auto  Four-Door Car              1131.5  \n",
       "3                    106.0  Corporate Auto            SUV               529.9  \n",
       "7                    101.0  Corporate Auto  Four-Door Car               363.0  \n",
       "10                    67.0   Personal Auto  Four-Door Car               482.4  \n",
       "...                    ...             ...            ...                 ...  \n",
       "7059                  76.0   Personal Auto  Four-Door Car               364.8  \n",
       "7061                 185.0   Personal Auto            SUV              1950.7  \n",
       "7062                  67.0  Corporate Auto   Two-Door Car               482.4  \n",
       "7067                  85.0  Corporate Auto  Four-Door Car               790.8  \n",
       "7069                  77.0  Corporate Auto   Two-Door Car               369.6  \n",
       "\n",
       "[2294 rows x 9 columns]"
      ]
     },
     "execution_count": 635,
     "metadata": {},
     "output_type": "execute_result"
    }
   ],
   "source": [
    "table_filtered = table_duplicates\n",
    "table_filtered = table_filtered[table_filtered['Income'] <= 0]\n",
    "table_filtered"
   ]
  },
  {
   "cell_type": "code",
   "execution_count": null,
   "metadata": {},
   "outputs": [],
   "source": []
  }
 ],
 "metadata": {
  "kernelspec": {
   "display_name": "Python 3",
   "language": "python",
   "name": "python3"
  },
  "language_info": {
   "codemirror_mode": {
    "name": "ipython",
    "version": 3
   },
   "file_extension": ".py",
   "mimetype": "text/x-python",
   "name": "python",
   "nbconvert_exporter": "python",
   "pygments_lexer": "ipython3",
   "version": "3.8.3"
  }
 },
 "nbformat": 4,
 "nbformat_minor": 4
}
